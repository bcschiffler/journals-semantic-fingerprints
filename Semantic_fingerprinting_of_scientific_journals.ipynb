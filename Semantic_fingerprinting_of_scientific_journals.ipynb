{
 "cells": [
  {
   "cell_type": "markdown",
   "metadata": {},
   "source": [
    "# Semantic fingerprinting of scientific journals"
   ]
  },
  {
   "cell_type": "markdown",
   "metadata": {},
   "source": [
    "To compare the similarity of texts, it is helpful to get an aggregate representation of the relevant texts. This notebook displays the semantic overlap in content between major scientific journals in the biomedical field.\n",
    "\n",
    "We are going to be using the [cortical.io](http://cortical.io) API to get a semantic fingerprint for the abstracts from every journal, compare them using the [Jaccard distance metric](https://en.wikipedia.org/wiki/Jaccard_index) and finally plot them in an interactive map using [Bokeh](https://bokeh.pydata.org/en/latest).\n",
    "\n",
    "Semantic fingerprinting is a technique based on embedding a word or text in a context so that the conceptual links to other concepts are being revealed. There are many ways to embed a text in a vector space. The method I am showing in this notebook relies on [semantic folding](https://en.wikipedia.org/wiki/Semantic_folding). It has its origins in theoretical concepts on how the brain could be storing information, e.g., theories about [sparse distributed representations](https://arxiv.org/ftp/arxiv/papers/1503/1503.07469.pdf).\n",
    "Find more information about semantic fingerprinting [here](http://www.cortical.io/technology_semantic.html).\n",
    "\n",
    "The data used in this notebook (a sample of 200 abstracts for each journal) stems from Pubmed queries and can e.g., be obtained using the scripts in [this repository](https://github.com/wiheto/readabilityinscience). However, with adjustments it can be used to gather semantic fingerprints and compare them for any text-based data."
   ]
  },
  {
   "cell_type": "markdown",
   "metadata": {},
   "source": [
    "## Imports"
   ]
  },
  {
   "cell_type": "code",
   "execution_count": 1,
   "metadata": {
    "collapsed": true
   },
   "outputs": [],
   "source": [
    "import retinasdk\n",
    "import pprint\n",
    "import os\n",
    "import numpy as np\n",
    "import pandas as pd\n",
    "import unidecode\n",
    "import time\n",
    "import json\n",
    "import matplotlib.pyplot as plt\n",
    "from nltk.stem import WordNetLemmatizer\n",
    "\n",
    "import sys\n",
    "sys.path.append('./')"
   ]
  },
  {
   "cell_type": "markdown",
   "metadata": {},
   "source": [
    "## Initializations"
   ]
  },
  {
   "cell_type": "code",
   "execution_count": 2,
   "metadata": {
    "collapsed": true
   },
   "outputs": [],
   "source": [
    "timer = 10  # n seconds delay between every bulk request to the API"
   ]
  },
  {
   "cell_type": "code",
   "execution_count": 3,
   "metadata": {
    "collapsed": true
   },
   "outputs": [],
   "source": [
    "basePath = './data/'\n",
    "outPath = './output/'\n",
    "ending = '/id_article/abstracttext_pubdate_year_pmid_articletitle_journal_title_keyword_doi/searchresults'"
   ]
  },
  {
   "cell_type": "markdown",
   "metadata": {},
   "source": [
    "Obtain a free API key by filling out this form: http://www.cortical.io/resources_apikey.html and entering it below"
   ]
  },
  {
   "cell_type": "code",
   "execution_count": 4,
   "metadata": {
    "collapsed": true
   },
   "outputs": [],
   "source": [
    "cortical_api_key =  # Insert your API key here\n",
    "liteClient = retinasdk.LiteClient(cortical_api_key)  # Only need the liteClient for the operations below"
   ]
  },
  {
   "cell_type": "markdown",
   "metadata": {},
   "source": [
    "We are using all the folders in /data as journal names:"
   ]
  },
  {
   "cell_type": "code",
   "execution_count": 5,
   "metadata": {
    "collapsed": true
   },
   "outputs": [],
   "source": [
    "# Code from https://stackoverflow.com/questions/800197/how-to-get-all-of-the-immediate-subdirectories-in-python\n",
    "def get_immediate_subdirectories(a_dir):\n",
    "    return [name for name in os.listdir(a_dir)\n",
    "            if os.path.isdir(os.path.join(a_dir, name))]"
   ]
  },
  {
   "cell_type": "code",
   "execution_count": 6,
   "metadata": {
    "collapsed": true
   },
   "outputs": [],
   "source": [
    "journalList = get_immediate_subdirectories(basePath)"
   ]
  },
  {
   "cell_type": "markdown",
   "metadata": {},
   "source": [
    "### Which journals are we looking at?"
   ]
  },
  {
   "cell_type": "code",
   "execution_count": 7,
   "metadata": {},
   "outputs": [
    {
     "name": "stdout",
     "output_type": "stream",
     "text": [
      "['adv_anat_embryol_cell_biol.[journal]',\n",
      " 'adv_drug_deliv_rev.[journal]',\n",
      " 'adv_virus_res[journal]',\n",
      " 'aids[journal]',\n",
      " 'allergy[journal]',\n",
      " 'am_fam_physician[journal]',\n",
      " 'am_j_hum_genet[journal]',\n",
      " 'am_j_neuroradiol[journal]',\n",
      " 'am_j_psychiat[journal]',\n",
      " 'anim_behav[journal]',\n",
      " 'annu_rev_biochem[journal]',\n",
      " 'annu_rev_cell_dev_biol.[journal]',\n",
      " 'annu_rev_genet[journal]',\n",
      " 'annu_rev_immunol[journal]',\n",
      " 'annu_rev_med[journal]',\n",
      " 'annu_rev_microbiol[journal]',\n",
      " 'annu_rev_neurosci[journal]',\n",
      " 'annu_rev_physiol[journal]',\n",
      " 'annu_rev_phytopathol[journal]',\n",
      " 'annu_rev_psychol[journal]',\n",
      " 'ann_intern_med[journal]',\n",
      " 'ann_ny_acad_sci[journal]',\n",
      " 'antivir_res[journal]',\n",
      " 'aquat_toxicol[journal]',\n",
      " 'arch_gen_psychiat[journal]',\n",
      " 'arch_intern_med[journal]',\n",
      " 'arch_toxicol[journal]',\n",
      " 'behav_brain_sci[journal]',\n",
      " 'biofouling[journal]',\n",
      " 'biol_psychiat[journal]',\n",
      " 'biol_rev[journal]',\n",
      " 'bmj[journal]',\n",
      " 'brain_behav_immun[journal]',\n",
      " 'brit_j_psychiat[journal]',\n",
      " 'br_j_gen_pract.[journal]',\n",
      " 'ca-cancer_j_clin[journal]',\n",
      " 'can_fam_physician[journal]',\n",
      " 'cell[journal]',\n",
      " 'chem_rev[journal]',\n",
      " 'clin_exp_allergy[journal]',\n",
      " 'clin_infect_dis[journal]',\n",
      " 'clin_microbiol_rev[journal]',\n",
      " 'clin_pharmacol_ther[journal]',\n",
      " 'clin_rev_allergy_immunol.[journal]',\n",
      " 'contact_dermatitis[journal]',\n",
      " 'cortex[journal]',\n",
      " 'crit_rev_toxicol[journal]',\n",
      " 'curr_opin_plant_biol[journal]',\n",
      " 'dev_comp_immunol[journal]',\n",
      " 'dev_dyn.[journal]',\n",
      " 'drugs[journal]',\n",
      " 'endocr_rev[journal]',\n",
      " 'environ_health_perspect.[journal]',\n",
      " 'fam_med[journal]',\n",
      " 'fam_pract[journal]',\n",
      " 'fems_microbiol_rev[journal]',\n",
      " 'gene_dev[journal]',\n",
      " 'genome_res[journal]',\n",
      " 'health_aff_(millwood)[journal]',\n",
      " 'health_policy_plan.[journal]',\n",
      " 'health_technol_assess.[journal]',\n",
      " 'horm_behav[journal]',\n",
      " 'hum_brain_mapp[journal]',\n",
      " 'immunity[journal]',\n",
      " 'immunol_rev[journal]',\n",
      " 'jama[journal]',\n",
      " 'j_allergy_clin_immun[journal]',\n",
      " 'j_am_med_inform_assoc.[journal]',\n",
      " 'j_anim_ecol[journal]',\n",
      " 'j_child_psychol_psychiatry[journal]',\n",
      " 'j_clin_invest[journal]',\n",
      " 'j_comp_neurol[journal]',\n",
      " 'j_exp_med[journal]',\n",
      " 'j_gen_intern_med[journal]',\n",
      " 'j_pineal_res[journal]',\n",
      " 'j_toxicol_environ_health_b_crit_rev.[journal]',\n",
      " 'j_viral_hepat.[journal]',\n",
      " 'j_virol[journal]',\n",
      " 'lancet[journal]',\n",
      " 'mar_biotechnol[journal]',\n",
      " 'med_res_rev[journal]',\n",
      " 'microbiol_mol_biol_rev.[journal]',\n",
      " 'microb_ecol[journal]',\n",
      " 'mol_aspects_med[journal]',\n",
      " 'mol_cell[journal]',\n",
      " 'mol_psychiatry[journal]',\n",
      " 'mol_ther[journal]',\n",
      " 'nature[journal]',\n",
      " 'nat_biotechnol[journal]',\n",
      " 'nat_cell_biol[journal]',\n",
      " 'nat_genet[journal]',\n",
      " 'nat_med[journal]',\n",
      " 'nat_neurosci[journal]',\n",
      " 'neuroimage[journal]',\n",
      " 'neuron[journal]',\n",
      " 'neuroradiology[journal]',\n",
      " 'neurosci_biobehav_rev.[journal]',\n",
      " 'new_engl_j_med[journal]',\n",
      " 'pediatr_allergy_immunol.[journal]',\n",
      " 'pharmacol_rev[journal]',\n",
      " 'pharmacol_ther.[journal]',\n",
      " 'philos_trans_r_soc_lond_b_biol_sci.[journal]',\n",
      " 'physiol_rev[journal]',\n",
      " 'plant_cell[journal]',\n",
      " 'proc_natl_acad_sci_u_s_a[journal]',\n",
      " 'psychol_bull[journal]',\n",
      " 'psychol_med[journal]',\n",
      " 'psychol_rev[journal]',\n",
      " 'psychother_psychosom[journal]',\n",
      " 'rev_med_virol[journal]',\n",
      " 'scand_j_prim_health_care[journal]',\n",
      " 'schizophr_bull.[journal]',\n",
      " 'science[journal]',\n",
      " 'sci_am[journal]',\n",
      " 'sci_eng_ethics.[journal]',\n",
      " 'stat_methods_med_res[journal]',\n",
      " 'syst_biol[journal]',\n",
      " 'toxicol_sci[journal]',\n",
      " 'trends_cogn_sci[journal]',\n",
      " 'trends_ecol_evol[journal]',\n",
      " 'trends_microbiol[journal]',\n",
      " 'trends_pharmacol_sci[journal]',\n",
      " 'trends_plant_sci[journal]']\n"
     ]
    }
   ],
   "source": [
    "pprint.pprint(journalList)"
   ]
  },
  {
   "cell_type": "markdown",
   "metadata": {},
   "source": [
    "### Initializing a Pandas DataFrame for the output"
   ]
  },
  {
   "cell_type": "code",
   "execution_count": 8,
   "metadata": {
    "collapsed": true
   },
   "outputs": [],
   "source": [
    "df_journal_fingerprints = pd.DataFrame(index=range(0,len(journalList)), columns=['fingerprint', 'journal', 'similar', 'abstract_count', 'median_year'])"
   ]
  },
  {
   "cell_type": "markdown",
   "metadata": {},
   "source": [
    "## Getting a semantic fingerprint for every journal using the cortical.io API"
   ]
  },
  {
   "cell_type": "code",
   "execution_count": null,
   "metadata": {
    "collapsed": true,
    "scrolled": true
   },
   "outputs": [],
   "source": [
    "for i in range(0, len(journalList)):\n",
    "    fingerprintsList = []\n",
    "    overallidList = []\n",
    "    overallyearList = []\n",
    "    combinedPath = (basePath + journalList[i] + ending)\n",
    "    df_temp = pd.read_json(combinedPath)\n",
    "    df_temp.sort_index(inplace=True)\n",
    "    df_temp['abstracttext'].replace('', np.nan, inplace=True)\n",
    "    df_reduced = df_temp.dropna(subset=['abstracttext'])  # Removing abstracts without abstracttext\n",
    "    df_reduced.index = range(len(df_reduced))\n",
    "    abstractList = df_reduced['abstracttext'].tolist()\n",
    "    \n",
    "    # Get journal fingerprint and median year for those abstracts by aggregating 200 abstracts\n",
    "    if len(abstractList) > 200:\n",
    "        journal_abstracts = ' '.join(abstractList[0:200])\n",
    "        abstractlength = 200\n",
    "        try:\n",
    "            median_year = np.median(df_reduced['pubdate_year'][0:200])\n",
    "        except:\n",
    "            median_year = 'NaN'\n",
    "    else:\n",
    "        journal_abstracts = ' '.join(abstractList[0:len(abstractList)])\n",
    "        abstractlength = len(abstractList)\n",
    "        try:\n",
    "            median_year = np.median(df_reduced['pubdate_year'][0:len(abstractList)])\n",
    "        except:\n",
    "            median_year = 'NaN'\n",
    "\n",
    "    journalfingerprint = liteClient.getFingerprint(journal_abstracts)  # Alternative would be to use createCategoryFilter on unjoined list\n",
    "    similarterms = liteClient.getSimilarTerms(journal_abstracts)\n",
    "\n",
    "    df_journal_fingerprints['fingerprint'][i] = journalfingerprint\n",
    "    df_journal_fingerprints['journal'][i] = journalList[i].replace('[journal]','')\n",
    "    df_journal_fingerprints['similar'][i] = similarterms\n",
    "    df_journal_fingerprints['abstract_count'][i] = abstractlength\n",
    "    df_journal_fingerprints['median_year'][i] = median_year\n",
    "    print(\"Journal \" + journalList[i].replace('[journal]','') + \" done\")\n",
    "    print(\"Waiting \" + str(timer) + \" seconds, about \" + str(int((len(journalList)-i) * timer / 60)) + \" minutes left\")\n",
    "    time.sleep(timer)\n",
    "\n",
    "# Saving the final dataframe\n",
    "df_journal_fingerprints.reset_index().to_json(outPath + 'journal_fingerprints.json')"
   ]
  },
  {
   "cell_type": "markdown",
   "metadata": {},
   "source": [
    "A scientific abstract from this list will look like this:"
   ]
  },
  {
   "cell_type": "code",
   "execution_count": null,
   "metadata": {
    "collapsed": true
   },
   "outputs": [],
   "source": [
    "print(abstractList[0])"
   ]
  },
  {
   "cell_type": "markdown",
   "metadata": {},
   "source": [
    "## Plotting an interactive [Jaccard distance](https://en.wikipedia.org/wiki/Jaccard_index) map between fingerprints using Bokeh"
   ]
  },
  {
   "cell_type": "code",
   "execution_count": 11,
   "metadata": {
    "collapsed": true
   },
   "outputs": [],
   "source": [
    "# Load the fingerprints dataframe if necessary\n",
    "df_journal_fingerprints = pd.read_json(outPath + 'journal_fingerprints.json')\n",
    "\n",
    "# Remove journals with under 200 proper abstracts\n",
    "reduced_fingerprints = df_journal_fingerprints[df_journal_fingerprints['abstract_count'] >= 200].copy().sort_values('journal', ascending=False)\n",
    "\n",
    "# We can stem the similar words to reduce the amount of singular/plural similar terms a bit\n",
    "wnl = WordNetLemmatizer()\n",
    "def lemmatize(row):\n",
    "    return [wnl.lemmatize(word) for word in row]  # Lemmatize and take unique words\n",
    "\n",
    "def extract_unique(row):\n",
    "    return pd.unique(row)\n",
    "\n",
    "reduced_words = pd.Series(reduced_fingerprints['similar'].apply(lemmatize))\n",
    "unique_words = reduced_words.apply(extract_unique)\n",
    "reduced_fingerprints['similar_reduced'] = unique_words.values\n",
    "    \n",
    "comparison_array = np.empty((len(reduced_fingerprints),len(reduced_fingerprints),))\n",
    "comparison_array[:] = np.NAN\n",
    "\n",
    "def compute_jaccard_index(set_1, set_2):\n",
    "    n = len(set_1.intersection(set_2))\n",
    "    return n / float(len(set_1) + len(set_2) - n)\n",
    "    \n",
    "for j in range(0,len(reduced_fingerprints)):\n",
    "    for k in range(j,len(reduced_fingerprints)):\n",
    "        comparison_array[j][k] = 1 - compute_jaccard_index(set(reduced_fingerprints['fingerprint'].iloc[j]), set(reduced_fingerprints['fingerprint'].iloc[k])) # 1 minus Jaccard to get Jaccard distance\n",
    "\n",
    "\n",
    "# Interactive plotting with Bokeh, based on http://bokeh.pydata.org/en/latest/docs/gallery/les_mis.html\n",
    "\n",
    "from bokeh.plotting import figure, show, output_file\n",
    "from bokeh.models import HoverTool, ColumnDataSource\n",
    "from bokeh.io import reset_output\n",
    "\n",
    "reset_output()\n",
    "\n",
    "subset_fingerprints = reduced_fingerprints[['journal','similar_reduced']]\n",
    "nodes = json.loads(subset_fingerprints.to_json(orient=\"records\"))\n",
    "\n",
    "names = [node['journal'] for node in nodes]\n",
    "N = len(nodes)\n",
    "\n",
    "counts = comparison_array\n",
    "normcounts = comparison_array * 1.0/comparison_array[~np.isnan(comparison_array)].max()  # Normalize the array for color display\n",
    "\n",
    "xname = []\n",
    "yname = []\n",
    "color = []\n",
    "alpha = []\n",
    "similar = []\n",
    "for i, node1 in enumerate(nodes):\n",
    "    for j, node2 in enumerate(nodes):\n",
    "        xname.append(node1['journal'])\n",
    "        yname.append(node2['journal'])\n",
    "        similar.append([itm for itm in node1['similar_reduced'] if itm in node2['similar_reduced']])\n",
    "\n",
    "        if j > i:\n",
    "            color.append('orange')\n",
    "            # Take (1 - value) for smaller distances to appear darker\n",
    "            alpha.append(1 - normcounts[i,j])\n",
    "        elif j == i:\n",
    "            color.append('white')\n",
    "            alpha.append(1)\n",
    "        else:\n",
    "            color.append('lightgrey')\n",
    "            alpha.append(1)\n",
    "\n",
    "source = ColumnDataSource(data=dict(\n",
    "    xname=xname,\n",
    "    yname=yname,\n",
    "    alphas=alpha,\n",
    "    colors=color,\n",
    "    count=counts.flatten(),\n",
    "    similar=similar,\n",
    "))\n",
    "\n",
    "p = figure(title=\"Semantic similarity of biomedical journals from a sample of 200 abstracts per journal\",\n",
    "           x_axis_location=\"above\", tools=\"hover,save\",\n",
    "           x_range=list(reversed(names)), y_range=names)\n",
    "\n",
    "p.plot_width = 1200\n",
    "p.plot_height = 1200\n",
    "p.grid.grid_line_color = None\n",
    "p.axis.axis_line_color = None\n",
    "p.axis.major_tick_line_color = None\n",
    "p.axis.major_label_text_font_size = \"5pt\"\n",
    "p.axis.major_label_standoff = 0\n",
    "p.xaxis.major_label_orientation = np.pi/3\n",
    "\n",
    "p.rect('xname', 'yname', 0.9, 0.9, source=source,\n",
    "       color='colors', alpha='alphas', line_color=None,\n",
    "       hover_line_color='black', hover_color='colors', hover_alpha='alphas')\n",
    "\n",
    "p.select_one(HoverTool).tooltips = [\n",
    "    ('Journals', '@yname, @xname'),\n",
    "    ('Jaccard', '@count'),\n",
    "    ('Concepts', '@similar'),\n",
    "]\n",
    "\n",
    "output_file(\"journals_200.html\", title=\"Semantic similarity of biomedical journals from a sample of 200 abstracts per journal\")\n",
    "\n",
    "show(p)"
   ]
  },
  {
   "cell_type": "markdown",
   "metadata": {},
   "source": [
    "The output can then be viewed as an HTML file in the main directory or online [here](http://bcschiffler.com/journals_200.html). On the diagonal in white, similar terms associated with the fingerprints for every journal can be seen when hovering over them. The upper triangle of the matrix reflects the (Jaccard) distance between all fingerprints in the dataset. A darker orange colour indicates fingerprints which are more similar to each other. Hovering over these will show the names of the two journals being compared, their Jaccard distance, as well as terms which are similar to both fingerprints."
   ]
  },
  {
   "cell_type": "markdown",
   "metadata": {},
   "source": [
    "A few examples of interest in this map indicate that semantic overlaps indeed reflect journal similarity:\n",
    "\n",
    "![Comparison between Nature Neuroscience and Neuron](img/nat_neurosci_neuron.png)\n",
    "\n",
    "The two journals Nature Neuroscience and Neuron are quite similar as indicated by a low Jaccard distance and both of their fingerprints are related to concepts like \"receptor\", \"neuron\" and \"inhibition\".\n",
    "\n",
    "![Comparison between Psychological Medicine and Schizophrenia Bulletin](img/psychol_med_schizophr_bull.png)\n",
    "\n",
    "The journals Psychological Medicine and Schizophrenia Bulletin are also similar, but here their fingerprints overlap on concepts such as \"disorder\", \"symptom\" and \"therapy\".\n",
    "\n",
    "![Comparison between Psychological Bulletin and Science and Engineering Ethics](img/psychol_bull_sci_eng_ethics.png)\n",
    "\n",
    "On the other hand, the journal Science and Engineering Ethics does not strongly overlap with most other journals as indicated by relatively higher Jaccard distance values, likely because thematically it focuses on the ethics of science and therefore has more of a meta-approach. However, on this meta-level, there are similarities with some journals which are focused on reviews of the literature such as Psychological Bulletin. This is reflected in the overlap in terms such as \"understanding\", \"approach\", or \"concept\"."
   ]
  }
 ],
 "metadata": {
  "kernelspec": {
   "display_name": "Python 3",
   "language": "python",
   "name": "python3"
  },
  "language_info": {
   "codemirror_mode": {
    "name": "ipython",
    "version": 3
   },
   "file_extension": ".py",
   "mimetype": "text/x-python",
   "name": "python",
   "nbconvert_exporter": "python",
   "pygments_lexer": "ipython3",
   "version": "3.6.1"
  }
 },
 "nbformat": 4,
 "nbformat_minor": 2
}
